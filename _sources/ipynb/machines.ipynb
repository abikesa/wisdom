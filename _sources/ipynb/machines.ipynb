{
 "cells": [
  {
   "cell_type": "markdown",
   "metadata": {},
   "source": [
    "(machines)=\n",
    "# Machines\n",
    "\n",
    "##### [Bus](https://www.ft.com/content/b7570359-f809-49ce-8cd5-9166d36a057b)[iness](https://www.economist.com/business/2024/07/28/what-are-the-threats-to-the-1trn-artificial-intelligence-boom#) | Feeding the machine\n",
    "## What are the threats to the $1tn artificial-intelligence boom?\n",
    "###### A fast-growing supply chain is at risk of over-extending\n",
    "\n",
    "![](https://www.economist.com/cdn-cgi/image/width=1424,quality=80,format=auto/content-assets/images/20240803_WBD001.jpg)\n",
    "\n",
    "                    1. f(t)\n",
    "                           \\\n",
    "                2. S(t) -> 4. y:h'f(t)=0;t(X'X).X'Y -> 5. b -> 6. SV'\n",
    "                           /\n",
    "                           3. h(t)\n",
    "\n",
    "## Character arc\n",
    "\n",
    "### ii. Departure from path of forebears by the `fledgling`\n",
    "- $f(t)$ The harmonic series implied when a single root note is sounded\n",
    "- $S(t)$ Unifying ii-V7-I arc (variations by mode, qualities, relatives is seperate issue)\n",
    "- $h(t)$ Landscape of travelled & less travelled paths {cite}`frost1916`\n",
    "\n",
    "### V7. Struggles breed a form of collective `idealism`\n",
    "- $(X'X)^T \\cdot X'Y$ Collective Unconscious that allows for for _Dhatemwa Kulala, Dhayawukana Emibala_\n",
    "\n",
    "### I. Returning home to the divinity of `self`\n",
    "- $\\beta$ Conceptualized as a hierarchy or rank-order of \"weights\" and \"tensions\": \n",
    "   - qualities: melody < dyad < triad \n",
    "   - extensions: < 7th < 9th < 11th < 13th\n",
    "   - alterations: `b`, `#`\n",
    "- $SV'$\n",
    "   - `individual`: how many of the \"barriers have been encountered and overcome?\n",
    "   - change of mode, quality, relative?\n",
    "   - diatonic: min7b5, dom7(#9, b9, b13), dim, etc      \n",
    "\n",
    "## Personalized service\n",
    "\n",
    "The \"quality\" of AI is linked to the number of parameters needed to accurately predict the needs of individual users. With 10 billion humans, 10,000 genetic loci, each with 2-100 variants, and with functional interactions amongst them and environement, you can do the math to show that there's no upper limit to the quality of AI.\n",
    "\n",
    "What is required for the very best-in-class is a self-updating, self-improving, self-learning system that gets better and better, with better customization for the end-user.\n",
    "\n",
    "Quick deployment and transportation do not seem to be limiting factors in this landscape of affairs. Its the sheer amount of \"compute\" and the energy it will demand. We are less inclined to bothere ourselves with the quality of the data on which it is trained, since simulation is a viable alternative, with increased quality of simulations over time"
   ]
  }
 ],
 "metadata": {
  "kernelspec": {
   "display_name": "Python 3",
   "language": "python",
   "name": "python3"
  },
  "language_info": {
   "codemirror_mode": {
    "name": "ipython",
    "version": 3
   },
   "file_extension": ".py",
   "mimetype": "text/x-python",
   "name": "python",
   "nbconvert_exporter": "python",
   "pygments_lexer": "ipython3",
   "version": "3.12.4"
  },
  "widgets": {
   "application/vnd.jupyter.widget-state+json": {
    "state": {},
    "version_major": 2,
    "version_minor": 0
   }
  }
 },
 "nbformat": 4,
 "nbformat_minor": 4
}
