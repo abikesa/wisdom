{
 "cells": [
  {
   "cell_type": "markdown",
   "metadata": {},
   "source": [
    "(app)=\n",
    "# Stata of Art\n",
    "\n",
    "> *The purpose of playing is to hold, as 'twere, the mirror up to nature; to show `virtue` her own feature, `scorn` her own image, and the very age and body of the time his form and pressure. O, there be players that I have seen play—and heard others praise, and that highly—not to speak it profanely, that, ... they `imitated` humanity so abominably - Hamlet* \n",
    "\n",
    "                    1. f(t)\n",
    "                          \\\n",
    "               2. S(t) -> 4. y:h'(f)=0;t(X'X).X'Y -> 5. b -> 6. SV'\n",
    "                          /\n",
    "                          3. h(t) \n",
    "\n",
    "<iframe width=\"560\" height=\"315\" src=\"https://www.youtube.com/embed/FD5ZKi-moMU\" frameborder=\"0\" allowfullscreen></iframe>\n",
    "\n",
    "Michael Tilson Thomas: Music and emotion through time has parallels with Dante's Allegory. _The Matrix_ encodes all of humanities knowledge be it art (imitation), science (prediction), technology (autoencoder), engineering (robots), aesthetics (kungfu), mathematics (vocabulary)\n",
    "\n",
    ">  *How lovely that thing you are playing is! I wonder, did `Chopin` write it at Majorca, with the sea weeping round the villa and the salt spray dashing against the panes? It is marvellously romantic. What a blessing it is that there is one art left to us that is `not imitative`! Don’t stop. I want music to-night - Lord Henry Wotton*\n",
    "\n",
    "### `ii` Primo/Never in River Twice\n",
    "- `Hell-Geothermal`/Aperitivo, Antipasto\n",
    "- Primo (opera)\n",
    "- Secondo, Contorno\n",
    "\n",
    "### `V7` Dolce/`Categorical` Imperative\n",
    "- `Purgatory-Mountain`/Insalata, Formaggi e Frutta, Dolce, Caffé, Digestivo (polyphony)\n",
    "\n",
    "### `i` Inferno/Beyond Good & Evil\n",
    "- `Goals-Solar`/Dante's allegory is the theme of S3E10: Tuscany {cite}`bourdain_no_reservations_tuscany` (transformations)\n",
    "- The structure of Dante's Inferno: Hell, Purgatory, Goals is truly from our collective unconscious\n",
    "\n",
    "\n",
    "\n",
    "## Generalist\n",
    "\n",
    "> *Arte (Imitation) & Scienza (Prediction) = Tragedy (Representation). When the products of art, science, or tragedy resonate with us, they have been accurately decoded with all the parameter coefficients similar to our own*\n",
    "\n",
    "                         1. Observing\n",
    "                                    \\\n",
    "               2. Time = Compute -> 4. Collective Unconscious -> 5. Decoding -> 6. Imitation-Prediction-Representation\n",
    "                                    /\n",
    "                                    3. Encoding\n",
    "\n",
    "\n",
    "                                    "
   ]
  },
  {
   "cell_type": "markdown",
   "metadata": {},
   "source": [
    "## Specificity\n",
    "\n",
    "- With any individualized prediction in science, a patient can’t say “that resonates” with me. The numbers are abstract and they’ve never experienced the outcome \n",
    "- But with art or tragedy the eternal recurrence of the same is encoded in the latent-space or collective unconscious and so it can resonate\n",
    "- Our way around this is by handing the end-user an app in which they might update their risk-profile and see if it changes the risk prediction\n",
    "- If there’s no change, then we could say the app is “mirroring” humanity so abominably; the backend model has no beta-coefficients for what has been tested \n",
    "- The structure of this discourse is : $\\mu$: base-case, $\\sigma$ varcov-matrix, $\\%$ predictive-accuracy\n",
    "\n",
    "### $\\mu$ Base-case\n",
    "- $f(t)$ l'homme moyen\n",
    "- $S(t)$ somewhere ages and ages hence  \n",
    "- $h(t)$ two roads diverged in a wood, and i—\n",
    "\n",
    "### $\\sigma$ Varcov-matrix\n",
    "- var[$(X'X)^T \\cdot X'Y$] think: the variability of courses & items in italian cuisine & modes-qualities-relatives in chopin\n",
    "\n",
    "### $\\%$ Predictive-accuracy\n",
    "- my palate craves `very diverse things` over time & i can only tell what i want on a given day\n",
    "- $\\ge 85$ only a very rich culture can throw me a bone to chew on that will keep me engaged"
   ]
  }
 ],
 "metadata": {
  "kernelspec": {
   "display_name": "Python 3",
   "language": "python",
   "name": "python3"
  },
  "language_info": {
   "codemirror_mode": {
    "name": "ipython",
    "version": 3
   },
   "file_extension": ".py",
   "mimetype": "text/x-python",
   "name": "python",
   "nbconvert_exporter": "python",
   "pygments_lexer": "ipython3",
   "version": "3.12.4"
  },
  "widgets": {
   "application/vnd.jupyter.widget-state+json": {
    "state": {},
    "version_major": 2,
    "version_minor": 0
   }
  }
 },
 "nbformat": 4,
 "nbformat_minor": 4
}