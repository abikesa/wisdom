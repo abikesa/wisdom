{
 "cells": [
  {
   "cell_type": "markdown",
   "metadata": {},
   "source": [
    "(mac)=\n",
    "# Mac\n",
    "\n",
    "```sh\n",
    "├── Applications\n",
    "├── Library\n",
    "├── System\n",
    "├── Users\n",
    "│   ├── Shared\n",
    "│   └── d\n",
    "│       ├── Applications\n",
    "│       ├── Desktop\n",
    "│       ├── Documents\n",
    "│       │   ├── Chords\n",
    "│       │   ├── Melody\n",
    "│       │   ├── Rhythm\n",
    "│       │   ├── Scripts\n",
    "│       │   └── Stata\n",
    "│       ├── Downloads\n",
    "│       ├── Dropbox -> /Users/d/Dropbox (Personal)\n",
    "│       ├── Library\n",
    "│       ├── Movies\n",
    "│       ├── Music\n",
    "│       ├── Oldbox\n",
    "│       ├── Pictures\n",
    "│       └── Public\n",
    "├── Volumes\n",
    "├── bin\n",
    "├── cores\n",
    "├── dev\n",
    "├── etc -> private/etc\n",
    "├── home -> /System/Volumes/Data/home\n",
    "├── opt\n",
    "├── private\n",
    "├── sbin\n",
    "├── tmp -> private/tmp\n",
    "└── usr\n",
    "```\n",
    "\n",
    "Move all `dropbox` content from my Mac/iCloud to this repo\n",
    "\n",
    "                                    "
   ]
  }
 ],
 "metadata": {
  "kernelspec": {
   "display_name": "Python 3",
   "language": "python",
   "name": "python3"
  },
  "language_info": {
   "codemirror_mode": {
    "name": "ipython",
    "version": 3
   },
   "file_extension": ".py",
   "mimetype": "text/x-python",
   "name": "python",
   "nbconvert_exporter": "python",
   "pygments_lexer": "ipython3",
   "version": "3.12.4"
  },
  "widgets": {
   "application/vnd.jupyter.widget-state+json": {
    "state": {},
    "version_major": 2,
    "version_minor": 0
   }
  }
 },
 "nbformat": 4,
 "nbformat_minor": 4
}